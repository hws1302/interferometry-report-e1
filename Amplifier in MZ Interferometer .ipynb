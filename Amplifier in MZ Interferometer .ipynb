{
 "cells": [
  {
   "cell_type": "markdown",
   "id": "eae60064",
   "metadata": {},
   "source": [
    "# Amplifier in MZ Interferometer\n",
    "\n",
    "An optical amplifier was initially added into one arm, with the other arm being adjusted to equalise path lengths. We knew path lengths were equal when the SLD source saw maximum contrast again"
   ]
  },
  {
   "cell_type": "code",
   "execution_count": 6,
   "id": "96de463c",
   "metadata": {},
   "outputs": [],
   "source": [
    "import pandas as pd \n",
    "import numpy as np \n",
    "import matplotlib.pyplot as plt"
   ]
  },
  {
   "cell_type": "markdown",
   "id": "6c9d6fdd",
   "metadata": {},
   "source": [
    "## Amplifier Characterisation\n",
    "\n",
    "Initially, it was important to get a graph which would allow us to quantify the gain of the amplifier as a function of pump current"
   ]
  },
  {
   "cell_type": "code",
   "execution_count": 7,
   "id": "ab1250a2",
   "metadata": {},
   "outputs": [
    {
     "data": {
      "text/html": [
       "<div>\n",
       "<style scoped>\n",
       "    .dataframe tbody tr th:only-of-type {\n",
       "        vertical-align: middle;\n",
       "    }\n",
       "\n",
       "    .dataframe tbody tr th {\n",
       "        vertical-align: top;\n",
       "    }\n",
       "\n",
       "    .dataframe thead th {\n",
       "        text-align: right;\n",
       "    }\n",
       "</style>\n",
       "<table border=\"1\" class=\"dataframe\">\n",
       "  <thead>\n",
       "    <tr style=\"text-align: right;\">\n",
       "      <th></th>\n",
       "      <th>Gain</th>\n",
       "      <th>Theoretical max</th>\n",
       "      <th>Theoretical w/ noise</th>\n",
       "    </tr>\n",
       "    <tr>\n",
       "      <th>Pump Current /mA</th>\n",
       "      <th></th>\n",
       "      <th></th>\n",
       "      <th></th>\n",
       "    </tr>\n",
       "  </thead>\n",
       "  <tbody>\n",
       "    <tr>\n",
       "      <th>1.0</th>\n",
       "      <td>0.003416</td>\n",
       "      <td>0.006833</td>\n",
       "      <td>0.115715</td>\n",
       "    </tr>\n",
       "    <tr>\n",
       "      <th>1.5</th>\n",
       "      <td>0.003928</td>\n",
       "      <td>0.007855</td>\n",
       "      <td>0.123883</td>\n",
       "    </tr>\n",
       "    <tr>\n",
       "      <th>2.0</th>\n",
       "      <td>0.004551</td>\n",
       "      <td>0.009102</td>\n",
       "      <td>0.133107</td>\n",
       "    </tr>\n",
       "    <tr>\n",
       "      <th>2.5</th>\n",
       "      <td>0.005237</td>\n",
       "      <td>0.010474</td>\n",
       "      <td>0.142494</td>\n",
       "    </tr>\n",
       "    <tr>\n",
       "      <th>3.0</th>\n",
       "      <td>0.006060</td>\n",
       "      <td>0.012119</td>\n",
       "      <td>0.152910</td>\n",
       "    </tr>\n",
       "    <tr>\n",
       "      <th>...</th>\n",
       "      <td>...</td>\n",
       "      <td>...</td>\n",
       "      <td>...</td>\n",
       "    </tr>\n",
       "    <tr>\n",
       "      <th>76.0</th>\n",
       "      <td>7.937141</td>\n",
       "      <td>0.248043</td>\n",
       "      <td>0.227096</td>\n",
       "    </tr>\n",
       "    <tr>\n",
       "      <th>77.0</th>\n",
       "      <td>8.255115</td>\n",
       "      <td>0.238770</td>\n",
       "      <td>0.223026</td>\n",
       "    </tr>\n",
       "    <tr>\n",
       "      <th>78.0</th>\n",
       "      <td>8.634239</td>\n",
       "      <td>0.228570</td>\n",
       "      <td>0.218447</td>\n",
       "    </tr>\n",
       "    <tr>\n",
       "      <th>79.0</th>\n",
       "      <td>9.013363</td>\n",
       "      <td>0.219195</td>\n",
       "      <td>0.214138</td>\n",
       "    </tr>\n",
       "    <tr>\n",
       "      <th>80.0</th>\n",
       "      <td>9.404717</td>\n",
       "      <td>0.210282</td>\n",
       "      <td>0.209947</td>\n",
       "    </tr>\n",
       "  </tbody>\n",
       "</table>\n",
       "<p>127 rows × 3 columns</p>\n",
       "</div>"
      ],
      "text/plain": [
       "                      Gain  Theoretical max   Theoretical w/ noise\n",
       "Pump Current /mA                                                  \n",
       "1.0               0.003416          0.006833              0.115715\n",
       "1.5               0.003928          0.007855              0.123883\n",
       "2.0               0.004551          0.009102              0.133107\n",
       "2.5               0.005237          0.010474              0.142494\n",
       "3.0               0.006060          0.012119              0.152910\n",
       "...                    ...               ...                   ...\n",
       "76.0              7.937141          0.248043              0.227096\n",
       "77.0              8.255115          0.238770              0.223026\n",
       "78.0              8.634239          0.228570              0.218447\n",
       "79.0              9.013363          0.219195              0.214138\n",
       "80.0              9.404717          0.210282              0.209947\n",
       "\n",
       "[127 rows x 3 columns]"
      ]
     },
     "execution_count": 7,
     "metadata": {},
     "output_type": "execute_result"
    }
   ],
   "source": [
    "df_char = pd.read_excel('data/amp-characterisation.xlsx', index_col=0, usecols='A,C:E')\n",
    "\n",
    "df_char = df_char.sort_index()\n",
    "\n",
    "df_char"
   ]
  },
  {
   "cell_type": "code",
   "execution_count": 8,
   "id": "a5d947f7",
   "metadata": {},
   "outputs": [
    {
     "data": {
      "image/png": "[encoded data removed]",
      "text/plain": [
       "<Figure size 432x288 with 1 Axes>"
      ]
     },
     "metadata": {
      "needs_background": "light"
     },
     "output_type": "display_data"
    }
   ],
   "source": [
    "# now we can plot our graph for the Gain as a function \n",
    "# need to label the y axis \n",
    "\n",
    "# df_char.plot(title='Gain-current Amplifier Characterisation', y='Gain', legend=False)\n",
    "\n",
    "plt.plot(df_char.index.values, df_char['Gain'])\n",
    "plt.title('Amplifier 1 Gain Character', fontsize=20)\n",
    "plt.ylabel('Gain', fontsize=20)\n",
    "plt.xlabel('Pump Current /mA', fontsize=20)\n",
    "plt.xticks(np.arange(0, 80.01, step=20),fontsize=16)\n",
    "plt.yticks(np.arange(0, 10.1, step=2),fontsize=16)\n",
    "plt.savefig('photos/amp1.png', dpi='figure', bbox_inches=\"tight\")"
   ]
  },
  {
   "cell_type": "code",
   "execution_count": 9,
   "id": "e09adc4c",
   "metadata": {},
   "outputs": [
    {
     "data": {
      "text/plain": [
       "<AxesSubplot:title={'center':'Gain-current Amplifier Characterisation'}, xlabel='Pump Current /mA'>"
      ]
     },
     "execution_count": 9,
     "metadata": {},
     "output_type": "execute_result"
    },
    {
     "data": {
      "image/png": "[encoded data removed]",
      "text/plain": [
       "<Figure size 432x288 with 1 Axes>"
      ]
     },
     "metadata": {
      "needs_background": "light"
     },
     "output_type": "display_data"
    }
   ],
   "source": [
    "# now log y axis \n",
    "# this shows that the relationship isn't quite exponential\n",
    "\n",
    "df_char.plot(title='Gain-current Amplifier Characterisation', y='Gain', legend=False, logy=True)\n",
    "\n"
   ]
  },
  {
   "cell_type": "markdown",
   "id": "9c8eded6",
   "metadata": {},
   "source": [
    "## Contrast-Gain Graph \n",
    "\n",
    "It is important to see how the contrast changes with the gain of one of the arms. \n",
    "\n",
    "To do this is the ampilifier was added into the MZ inteferometer and appropriate amount of cable was added into the other arm to ensure that the path lengths were equal and that the SLD contrast maximum could be found.\n",
    "\n",
    "Cables used:\n",
    "\n",
    "First arm: \\\n",
    "Second arm:"
   ]
  },
  {
   "cell_type": "code",
   "execution_count": 10,
   "id": "b2d08216",
   "metadata": {},
   "outputs": [
    {
     "data": {
      "text/html": [
       "<div>\n",
       "<style scoped>\n",
       "    .dataframe tbody tr th:only-of-type {\n",
       "        vertical-align: middle;\n",
       "    }\n",
       "\n",
       "    .dataframe tbody tr th {\n",
       "        vertical-align: top;\n",
       "    }\n",
       "\n",
       "    .dataframe thead th {\n",
       "        text-align: right;\n",
       "    }\n",
       "</style>\n",
       "<table border=\"1\" class=\"dataframe\">\n",
       "  <thead>\n",
       "    <tr style=\"text-align: right;\">\n",
       "      <th></th>\n",
       "      <th>Contrast</th>\n",
       "    </tr>\n",
       "    <tr>\n",
       "      <th>Pump Current /mA</th>\n",
       "      <th></th>\n",
       "    </tr>\n",
       "  </thead>\n",
       "  <tbody>\n",
       "    <tr>\n",
       "      <th>5.0</th>\n",
       "      <td>0.015584</td>\n",
       "    </tr>\n",
       "    <tr>\n",
       "      <th>7.0</th>\n",
       "      <td>0.017834</td>\n",
       "    </tr>\n",
       "    <tr>\n",
       "      <th>9.0</th>\n",
       "      <td>0.027848</td>\n",
       "    </tr>\n",
       "    <tr>\n",
       "      <th>11.0</th>\n",
       "      <td>0.042767</td>\n",
       "    </tr>\n",
       "    <tr>\n",
       "      <th>13.0</th>\n",
       "      <td>0.060870</td>\n",
       "    </tr>\n",
       "    <tr>\n",
       "      <th>...</th>\n",
       "      <td>...</td>\n",
       "    </tr>\n",
       "    <tr>\n",
       "      <th>76.0</th>\n",
       "      <td>0.384439</td>\n",
       "    </tr>\n",
       "    <tr>\n",
       "      <th>77.0</th>\n",
       "      <td>0.390244</td>\n",
       "    </tr>\n",
       "    <tr>\n",
       "      <th>78.0</th>\n",
       "      <td>0.376720</td>\n",
       "    </tr>\n",
       "    <tr>\n",
       "      <th>79.0</th>\n",
       "      <td>0.391073</td>\n",
       "    </tr>\n",
       "    <tr>\n",
       "      <th>80.0</th>\n",
       "      <td>0.372277</td>\n",
       "    </tr>\n",
       "  </tbody>\n",
       "</table>\n",
       "<p>87 rows × 1 columns</p>\n",
       "</div>"
      ],
      "text/plain": [
       "                  Contrast\n",
       "Pump Current /mA          \n",
       "5.0               0.015584\n",
       "7.0               0.017834\n",
       "9.0               0.027848\n",
       "11.0              0.042767\n",
       "13.0              0.060870\n",
       "...                    ...\n",
       "76.0              0.384439\n",
       "77.0              0.390244\n",
       "78.0              0.376720\n",
       "79.0              0.391073\n",
       "80.0              0.372277\n",
       "\n",
       "[87 rows x 1 columns]"
      ]
     },
     "execution_count": 10,
     "metadata": {},
     "output_type": "execute_result"
    }
   ],
   "source": [
    "df_cg = pd.read_excel('data/amp-cg.xlsx', index_col=0, usecols='A,D')\n",
    "\n",
    "df_cg = df_cg.dropna()\n",
    "\n",
    "df_cg = df_cg.sort_index()\n",
    "\n",
    "df_cg"
   ]
  },
  {
   "cell_type": "code",
   "execution_count": 11,
   "id": "13e29262",
   "metadata": {},
   "outputs": [
    {
     "data": {
      "text/html": [
       "<div>\n",
       "<style scoped>\n",
       "    .dataframe tbody tr th:only-of-type {\n",
       "        vertical-align: middle;\n",
       "    }\n",
       "\n",
       "    .dataframe tbody tr th {\n",
       "        vertical-align: top;\n",
       "    }\n",
       "\n",
       "    .dataframe thead th {\n",
       "        text-align: right;\n",
       "    }\n",
       "</style>\n",
       "<table border=\"1\" class=\"dataframe\">\n",
       "  <thead>\n",
       "    <tr style=\"text-align: right;\">\n",
       "      <th></th>\n",
       "      <th>Contrast</th>\n",
       "      <th>Gain</th>\n",
       "      <th>Theoretical max</th>\n",
       "      <th>Theoretical w/ noise</th>\n",
       "    </tr>\n",
       "    <tr>\n",
       "      <th>Pump Current /mA</th>\n",
       "      <th></th>\n",
       "      <th></th>\n",
       "      <th></th>\n",
       "      <th></th>\n",
       "    </tr>\n",
       "  </thead>\n",
       "  <tbody>\n",
       "    <tr>\n",
       "      <th>5.0</th>\n",
       "      <td>0.015584</td>\n",
       "      <td>0.010175</td>\n",
       "      <td>0.020347</td>\n",
       "      <td>0.195763</td>\n",
       "    </tr>\n",
       "    <tr>\n",
       "      <th>7.0</th>\n",
       "      <td>0.017834</td>\n",
       "      <td>0.015087</td>\n",
       "      <td>0.030168</td>\n",
       "      <td>0.235023</td>\n",
       "    </tr>\n",
       "    <tr>\n",
       "      <th>9.0</th>\n",
       "      <td>0.027848</td>\n",
       "      <td>0.021072</td>\n",
       "      <td>0.042126</td>\n",
       "      <td>0.273064</td>\n",
       "    </tr>\n",
       "    <tr>\n",
       "      <th>11.0</th>\n",
       "      <td>0.042767</td>\n",
       "      <td>0.028803</td>\n",
       "      <td>0.057558</td>\n",
       "      <td>0.312432</td>\n",
       "    </tr>\n",
       "    <tr>\n",
       "      <th>13.0</th>\n",
       "      <td>0.060870</td>\n",
       "      <td>0.037157</td>\n",
       "      <td>0.074212</td>\n",
       "      <td>0.346859</td>\n",
       "    </tr>\n",
       "    <tr>\n",
       "      <th>...</th>\n",
       "      <td>...</td>\n",
       "      <td>...</td>\n",
       "      <td>...</td>\n",
       "      <td>...</td>\n",
       "    </tr>\n",
       "    <tr>\n",
       "      <th>76.0</th>\n",
       "      <td>0.384439</td>\n",
       "      <td>7.937141</td>\n",
       "      <td>0.248043</td>\n",
       "      <td>0.227096</td>\n",
       "    </tr>\n",
       "    <tr>\n",
       "      <th>77.0</th>\n",
       "      <td>0.390244</td>\n",
       "      <td>8.255115</td>\n",
       "      <td>0.238770</td>\n",
       "      <td>0.223026</td>\n",
       "    </tr>\n",
       "    <tr>\n",
       "      <th>78.0</th>\n",
       "      <td>0.376720</td>\n",
       "      <td>8.634239</td>\n",
       "      <td>0.228570</td>\n",
       "      <td>0.218447</td>\n",
       "    </tr>\n",
       "    <tr>\n",
       "      <th>79.0</th>\n",
       "      <td>0.391073</td>\n",
       "      <td>9.013363</td>\n",
       "      <td>0.219195</td>\n",
       "      <td>0.214138</td>\n",
       "    </tr>\n",
       "    <tr>\n",
       "      <th>80.0</th>\n",
       "      <td>0.372277</td>\n",
       "      <td>9.404717</td>\n",
       "      <td>0.210282</td>\n",
       "      <td>0.209947</td>\n",
       "    </tr>\n",
       "  </tbody>\n",
       "</table>\n",
       "<p>89 rows × 4 columns</p>\n",
       "</div>"
      ],
      "text/plain": [
       "                  Contrast      Gain  Theoretical max   Theoretical w/ noise\n",
       "Pump Current /mA                                                            \n",
       "5.0               0.015584  0.010175          0.020347              0.195763\n",
       "7.0               0.017834  0.015087          0.030168              0.235023\n",
       "9.0               0.027848  0.021072          0.042126              0.273064\n",
       "11.0              0.042767  0.028803          0.057558              0.312432\n",
       "13.0              0.060870  0.037157          0.074212              0.346859\n",
       "...                    ...       ...               ...                   ...\n",
       "76.0              0.384439  7.937141          0.248043              0.227096\n",
       "77.0              0.390244  8.255115          0.238770              0.223026\n",
       "78.0              0.376720  8.634239          0.228570              0.218447\n",
       "79.0              0.391073  9.013363          0.219195              0.214138\n",
       "80.0              0.372277  9.404717          0.210282              0.209947\n",
       "\n",
       "[89 rows x 4 columns]"
      ]
     },
     "execution_count": 11,
     "metadata": {},
     "output_type": "execute_result"
    }
   ],
   "source": [
    "# joining the contrast-current on the gain-current\n",
    "# allows to plot contrast-gain plot\n",
    "\n",
    "df_cg = df_cg.join(df_char, on='Pump Current /mA', how='left')\n",
    "\n",
    "df_cg"
   ]
  },
  {
   "cell_type": "code",
   "execution_count": 12,
   "id": "fb2f61ef",
   "metadata": {},
   "outputs": [
    {
     "data": {
      "image/png": "[encoded data removed]",
      "text/plain": [
       "<Figure size 432x288 with 1 Axes>"
      ]
     },
     "metadata": {
      "needs_background": "light"
     },
     "output_type": "display_data"
    }
   ],
   "source": [
    "#df_cg.plot(x='Gain',y=['Contrast', 'Theoretical w/ noise'], ylabel='Contrast', xticks=range(0,11))\n",
    "\n",
    "plt.plot(df_cg['Gain'], df_cg['Contrast'], label='Recorded values')\n",
    "plt.plot(df_cg['Gain'], df_cg['Theoretical w/ noise'], label='Theoretical max w/ noise')\n",
    "plt.legend()\n",
    "plt.title('Contrast-gain one amplifier', fontsize=20)\n",
    "plt.ylabel('Contrast', fontsize=20)\n",
    "plt.xlabel('Gain', fontsize=20)\n",
    "plt.xticks(np.arange(0, 10.01, step=2),fontsize=16)\n",
    "plt.yticks(np.arange(0, 0.9, step=0.2),fontsize=16)\n",
    "\n",
    "plt.savefig('photos/contratst-gain.png', dpi='figure', bbox_inches=\"tight\")"
   ]
  },
  {
   "cell_type": "markdown",
   "id": "de55507a",
   "metadata": {},
   "source": [
    "## Amplifier in both arms\n",
    "\n",
    "\n",
    "In the second part of this experiment, another amplifier was added in to the second arm. Again, the measured lengths of the cables were used to roughly equalise the lenghts in the arm. \n",
    "\n",
    "\n",
    "The setup used the cables:\n",
    "\n",
    "First arm: \\\n",
    "Second arm:\n",
    "\n",
    "\n",
    "Then the contrast-gain relationship was investigated again. This time it was tested whether the amplifier affected the coherence of the beam (considerations of ratio are now left)."
   ]
  },
  {
   "cell_type": "code",
   "execution_count": 13,
   "id": "ca17c494",
   "metadata": {},
   "outputs": [
    {
     "data": {
      "text/html": [
       "<div>\n",
       "<style scoped>\n",
       "    .dataframe tbody tr th:only-of-type {\n",
       "        vertical-align: middle;\n",
       "    }\n",
       "\n",
       "    .dataframe tbody tr th {\n",
       "        vertical-align: top;\n",
       "    }\n",
       "\n",
       "    .dataframe thead th {\n",
       "        text-align: right;\n",
       "    }\n",
       "</style>\n",
       "<table border=\"1\" class=\"dataframe\">\n",
       "  <thead>\n",
       "    <tr style=\"text-align: right;\">\n",
       "      <th></th>\n",
       "      <th>Gain.2</th>\n",
       "    </tr>\n",
       "    <tr>\n",
       "      <th>Current / mA</th>\n",
       "      <th></th>\n",
       "    </tr>\n",
       "  </thead>\n",
       "  <tbody>\n",
       "    <tr>\n",
       "      <th>1.0</th>\n",
       "      <td>0.000124</td>\n",
       "    </tr>\n",
       "    <tr>\n",
       "      <th>3.0</th>\n",
       "      <td>0.000368</td>\n",
       "    </tr>\n",
       "    <tr>\n",
       "      <th>5.0</th>\n",
       "      <td>0.001201</td>\n",
       "    </tr>\n",
       "    <tr>\n",
       "      <th>7.0</th>\n",
       "      <td>0.002512</td>\n",
       "    </tr>\n",
       "    <tr>\n",
       "      <th>9.0</th>\n",
       "      <td>0.004229</td>\n",
       "    </tr>\n",
       "    <tr>\n",
       "      <th>...</th>\n",
       "      <td>...</td>\n",
       "    </tr>\n",
       "    <tr>\n",
       "      <th>110.0</th>\n",
       "      <td>6.630882</td>\n",
       "    </tr>\n",
       "    <tr>\n",
       "      <th>115.0</th>\n",
       "      <td>7.476959</td>\n",
       "    </tr>\n",
       "    <tr>\n",
       "      <th>120.0</th>\n",
       "      <td>8.441094</td>\n",
       "    </tr>\n",
       "    <tr>\n",
       "      <th>125.0</th>\n",
       "      <td>9.444580</td>\n",
       "    </tr>\n",
       "    <tr>\n",
       "      <th>130.0</th>\n",
       "      <td>10.546448</td>\n",
       "    </tr>\n",
       "  </tbody>\n",
       "</table>\n",
       "<p>125 rows × 1 columns</p>\n",
       "</div>"
      ],
      "text/plain": [
       "                  Gain.2\n",
       "Current / mA            \n",
       "1.0             0.000124\n",
       "3.0             0.000368\n",
       "5.0             0.001201\n",
       "7.0             0.002512\n",
       "9.0             0.004229\n",
       "...                  ...\n",
       "110.0           6.630882\n",
       "115.0           7.476959\n",
       "120.0           8.441094\n",
       "125.0           9.444580\n",
       "130.0          10.546448\n",
       "\n",
       "[125 rows x 1 columns]"
      ]
     },
     "execution_count": 13,
     "metadata": {},
     "output_type": "execute_result"
    }
   ],
   "source": [
    "# first we must characterise the second amplifier \n",
    "\n",
    "df_char2 = pd.read_excel('data/amp-characterisation.xlsx', index_col=0, usecols='T,V')\n",
    "\n",
    "df_char2 = df_char2.sort_index()\n",
    "\n",
    "df_char2 = df_char2.dropna()\n",
    "\n",
    "df_char2"
   ]
  },
  {
   "cell_type": "markdown",
   "id": "7f28cf65",
   "metadata": {},
   "source": [
    "The attenuation was added in after "
   ]
  },
  {
   "cell_type": "code",
   "execution_count": 14,
   "id": "aed2bfb8",
   "metadata": {},
   "outputs": [
    {
     "data": {
      "image/png": "[encoded data removed]",
      "text/plain": [
       "<Figure size 432x288 with 1 Axes>"
      ]
     },
     "metadata": {
      "needs_background": "light"
     },
     "output_type": "display_data"
    }
   ],
   "source": [
    "# need to remove the anomolous data ? subsitute for the mean value inbetween points\n",
    "\n",
    "#df_char2.plot(title='Gain-current Amplifier Characterisation 2', legend=False)\n",
    "\n",
    "plt.plot(df_char2.index.values, df_char2['Gain.2'])\n",
    "plt.title('Amplifier 2 Gain Character', fontsize=20)\n",
    "plt.ylabel('Gain', fontsize=20)\n",
    "plt.xlabel('Pump Current /mA', fontsize=20)\n",
    "plt.xticks(np.arange(0, 130.01, step=20),fontsize=16)\n",
    "plt.yticks(np.arange(0, 10.1, step=2),fontsize=16)\n",
    "plt.savefig('photos/amp2.png', dpi='figure', bbox_inches=\"tight\")"
   ]
  },
  {
   "cell_type": "markdown",
   "id": "f946ad68",
   "metadata": {},
   "source": [
    "Now the pump currents were changed in ea. amplifier (but these were to different values to ensure equal gains). \n",
    "\n",
    "Then the values of contrast-gain was plotted."
   ]
  },
  {
   "cell_type": "code",
   "execution_count": 15,
   "id": "c9a3a99f",
   "metadata": {},
   "outputs": [
    {
     "data": {
      "text/html": [
       "<div>\n",
       "<style scoped>\n",
       "    .dataframe tbody tr th:only-of-type {\n",
       "        vertical-align: middle;\n",
       "    }\n",
       "\n",
       "    .dataframe tbody tr th {\n",
       "        vertical-align: top;\n",
       "    }\n",
       "\n",
       "    .dataframe thead th {\n",
       "        text-align: right;\n",
       "    }\n",
       "</style>\n",
       "<table border=\"1\" class=\"dataframe\">\n",
       "  <thead>\n",
       "    <tr style=\"text-align: right;\">\n",
       "      <th></th>\n",
       "      <th>Contrast</th>\n",
       "    </tr>\n",
       "    <tr>\n",
       "      <th>Gain</th>\n",
       "      <th></th>\n",
       "    </tr>\n",
       "  </thead>\n",
       "  <tbody>\n",
       "    <tr>\n",
       "      <th>0.1</th>\n",
       "      <td>0.199650</td>\n",
       "    </tr>\n",
       "    <tr>\n",
       "      <th>0.2</th>\n",
       "      <td>0.291803</td>\n",
       "    </tr>\n",
       "    <tr>\n",
       "      <th>0.3</th>\n",
       "      <td>0.350254</td>\n",
       "    </tr>\n",
       "    <tr>\n",
       "      <th>0.4</th>\n",
       "      <td>0.366667</td>\n",
       "    </tr>\n",
       "    <tr>\n",
       "      <th>0.5</th>\n",
       "      <td>0.403614</td>\n",
       "    </tr>\n",
       "    <tr>\n",
       "      <th>0.6</th>\n",
       "      <td>0.399061</td>\n",
       "    </tr>\n",
       "    <tr>\n",
       "      <th>0.7</th>\n",
       "      <td>0.428274</td>\n",
       "    </tr>\n",
       "    <tr>\n",
       "      <th>0.8</th>\n",
       "      <td>0.420690</td>\n",
       "    </tr>\n",
       "    <tr>\n",
       "      <th>0.9</th>\n",
       "      <td>0.427245</td>\n",
       "    </tr>\n",
       "    <tr>\n",
       "      <th>1.0</th>\n",
       "      <td>0.443213</td>\n",
       "    </tr>\n",
       "    <tr>\n",
       "      <th>1.1</th>\n",
       "      <td>0.466579</td>\n",
       "    </tr>\n",
       "    <tr>\n",
       "      <th>1.2</th>\n",
       "      <td>0.446701</td>\n",
       "    </tr>\n",
       "    <tr>\n",
       "      <th>1.3</th>\n",
       "      <td>0.468700</td>\n",
       "    </tr>\n",
       "    <tr>\n",
       "      <th>1.4</th>\n",
       "      <td>0.453901</td>\n",
       "    </tr>\n",
       "    <tr>\n",
       "      <th>2.4</th>\n",
       "      <td>0.464164</td>\n",
       "    </tr>\n",
       "    <tr>\n",
       "      <th>3.0</th>\n",
       "      <td>0.485714</td>\n",
       "    </tr>\n",
       "    <tr>\n",
       "      <th>4.3</th>\n",
       "      <td>0.487342</td>\n",
       "    </tr>\n",
       "    <tr>\n",
       "      <th>5.1</th>\n",
       "      <td>0.486631</td>\n",
       "    </tr>\n",
       "    <tr>\n",
       "      <th>6.6</th>\n",
       "      <td>0.510549</td>\n",
       "    </tr>\n",
       "    <tr>\n",
       "      <th>7.5</th>\n",
       "      <td>0.487455</td>\n",
       "    </tr>\n",
       "    <tr>\n",
       "      <th>8.4</th>\n",
       "      <td>0.476489</td>\n",
       "    </tr>\n",
       "    <tr>\n",
       "      <th>9.4</th>\n",
       "      <td>0.487032</td>\n",
       "    </tr>\n",
       "  </tbody>\n",
       "</table>\n",
       "</div>"
      ],
      "text/plain": [
       "       Contrast \n",
       "Gain            \n",
       "0.1     0.199650\n",
       "0.2     0.291803\n",
       "0.3     0.350254\n",
       "0.4     0.366667\n",
       "0.5     0.403614\n",
       "0.6     0.399061\n",
       "0.7     0.428274\n",
       "0.8     0.420690\n",
       "0.9     0.427245\n",
       "1.0     0.443213\n",
       "1.1     0.466579\n",
       "1.2     0.446701\n",
       "1.3     0.468700\n",
       "1.4     0.453901\n",
       "2.4     0.464164\n",
       "3.0     0.485714\n",
       "4.3     0.487342\n",
       "5.1     0.486631\n",
       "6.6     0.510549\n",
       "7.5     0.487455\n",
       "8.4     0.476489\n",
       "9.4     0.487032"
      ]
     },
     "execution_count": 15,
     "metadata": {},
     "output_type": "execute_result"
    },
    {
     "data": {
      "image/png": "[encoded data removed]",
      "text/plain": [
       "<Figure size 432x288 with 1 Axes>"
      ]
     },
     "metadata": {
      "needs_background": "light"
     },
     "output_type": "display_data"
    }
   ],
   "source": [
    "df_cg2 = pd.read_excel('data/amp-cg.xlsx', index_col=0, usecols='G,J')\n",
    "\n",
    "df_cg2 = df_cg2.dropna()\n",
    "\n",
    "df_cg2 = df_cg2.sort_index()\n",
    "\n",
    "df_cg2.plot()\n",
    "\n",
    "df_cg2"
   ]
  },
  {
   "cell_type": "code",
   "execution_count": 16,
   "id": "f79d98fa",
   "metadata": {},
   "outputs": [
    {
     "data": {
      "text/plain": [
       "Index(['Contrast '], dtype='object')"
      ]
     },
     "execution_count": 16,
     "metadata": {},
     "output_type": "execute_result"
    }
   ],
   "source": [
    "df_cg2.columns"
   ]
  },
  {
   "cell_type": "code",
   "execution_count": 17,
   "id": "7c79b119",
   "metadata": {},
   "outputs": [
    {
     "data": {
      "image/png": "[encoded data removed]",
      "text/plain": [
       "<Figure size 432x288 with 1 Axes>"
      ]
     },
     "metadata": {
      "needs_background": "light"
     },
     "output_type": "display_data"
    }
   ],
   "source": [
    "# df_cg2.plot(legend=False, ylabel='Contrast', xticks=range(0,11))\n",
    "\n",
    "x = df_cg2.index.values\n",
    "\n",
    "y = df_cg2['Contrast ']\n",
    "\n",
    "plt.plot(y)\n",
    "\n",
    "plt.title('Contrast-gain two amplifiers', fontsize=20)\n",
    "plt.ylabel('Contrast', fontsize=20)\n",
    "plt.xlabel('Gain', fontsize=20)\n",
    "plt.xticks(np.arange(0, 10.01, step=2),fontsize=16)\n",
    "plt.yticks(np.arange(0.2, 0.51, step=0.1),fontsize=16)\n",
    "plt.savefig('photos/contrast_gain_twoamp.png', dpi='figure', bbox_inches=\"tight\")"
   ]
  },
  {
   "cell_type": "markdown",
   "id": "217f6fc9",
   "metadata": {},
   "source": [
    "The cell output is much the same but now as gain gets very high the value for contrast doesn't fall. \n",
    "\n",
    "This suggests that the rate of spontaneous emission is proportional to the amplification -> therefore it makes no difference to the contrast."
   ]
  },
  {
   "cell_type": "code",
   "execution_count": 18,
   "id": "a8887678",
   "metadata": {},
   "outputs": [],
   "source": [
    "gain = np.linspace(0,10,200)\n",
    " \n",
    "def contrast(gain, noise):\n",
    "    return 2*gain/(1+gain**2 + 2*gain*noise)"
   ]
  },
  {
   "cell_type": "code",
   "execution_count": 19,
   "id": "a66d94d3",
   "metadata": {},
   "outputs": [],
   "source": [
    "y1 = contrast(gain, 0)\n",
    "y2 = contrast(gain, 0.1)\n",
    "y3 = contrast(gain, 0.3)\n",
    "y4 = contrast(gain, 0.5)\n",
    "y5 = contrast(gain, 0.7)"
   ]
  },
  {
   "cell_type": "code",
   "execution_count": 20,
   "id": "3c9910d2",
   "metadata": {},
   "outputs": [
    {
     "data": {
      "text/plain": [
       "(array([-0.2,  0. ,  0.2,  0.4,  0.6,  0.8,  1. ,  1.2]),\n",
       " [Text(0, 0, ''),\n",
       "  Text(0, 0, ''),\n",
       "  Text(0, 0, ''),\n",
       "  Text(0, 0, ''),\n",
       "  Text(0, 0, ''),\n",
       "  Text(0, 0, ''),\n",
       "  Text(0, 0, ''),\n",
       "  Text(0, 0, '')])"
      ]
     },
     "execution_count": 20,
     "metadata": {},
     "output_type": "execute_result"
    },
    {
     "data": {
      "image/png": "[encoded data removed]",
      "text/plain": [
       "<Figure size 432x288 with 1 Axes>"
      ]
     },
     "metadata": {
      "needs_background": "light"
     },
     "output_type": "display_data"
    }
   ],
   "source": [
    "plt.plot(gain, y1, label='0')\n",
    "plt.plot(gain, y2, label='0.1')\n",
    "plt.plot(gain, y3, label='0.3')\n",
    "plt.plot(gain, y4, label='0.5')\n",
    "plt.plot(gain, y5, label='0.7')\n",
    "plt.legend()\n",
    "plt.title('How Noise Affects Max Contrast', fontsize=20)\n",
    "plt.ylabel('Max Contrast', fontsize=20)\n",
    "plt.xlabel('Gain', fontsize=20)\n",
    "plt.xticks(fontsize=16)\n",
    "plt.yticks(fontsize=16)\n",
    "#plt.savefig('photos/noise_contrast.png', dpi='figure', bbox_inches=\"tight\")"
   ]
  },
  {
   "cell_type": "markdown",
   "id": "5bebf869",
   "metadata": {},
   "source": [
    "It is worth noting here that my model for the max contrast-gain relationship is wrong. It should be:\n",
    "\n",
    "$$ \\frac{\\sqrt{k}}{(1+k)}$$"
   ]
  }
 ],
 "metadata": {
  "kernelspec": {
   "display_name": "Python 3 (ipykernel)",
   "language": "python",
   "name": "python3"
  },
  "language_info": {
   "codemirror_mode": {
    "name": "ipython",
    "version": 3
   },
   "file_extension": ".py",
   "mimetype": "text/x-python",
   "name": "python",
   "nbconvert_exporter": "python",
   "pygments_lexer": "ipython3",
   "version": "3.9.6"
  }
 },
 "nbformat": 4,
 "nbformat_minor": 5
}
