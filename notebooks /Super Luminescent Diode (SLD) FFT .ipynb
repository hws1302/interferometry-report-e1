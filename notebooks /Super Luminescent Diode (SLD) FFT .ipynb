{
 "cells": [
  {
   "cell_type": "code",
   "execution_count": 1,
   "id": "a142f62d",
   "metadata": {},
   "outputs": [],
   "source": [
    "import pandas as pd \n",
    "import numpy as np \n",
    "import matplotlib.pyplot as plt\n",
    "from scipy.fft import fft, fftfreq, rfft, rfftfreq, irfft\n",
    "%matplotlib inline"
   ]
  },
  {
   "cell_type": "code",
   "execution_count": 2,
   "id": "72391034",
   "metadata": {
    "scrolled": true
   },
   "outputs": [
    {
     "data": {
      "text/html": [
       "<div>\n",
       "<style scoped>\n",
       "    .dataframe tbody tr th:only-of-type {\n",
       "        vertical-align: middle;\n",
       "    }\n",
       "\n",
       "    .dataframe tbody tr th {\n",
       "        vertical-align: top;\n",
       "    }\n",
       "\n",
       "    .dataframe thead th {\n",
       "        text-align: right;\n",
       "    }\n",
       "</style>\n",
       "<table border=\"1\" class=\"dataframe\">\n",
       "  <thead>\n",
       "    <tr style=\"text-align: right;\">\n",
       "      <th></th>\n",
       "      <th>Contrast/V.1</th>\n",
       "    </tr>\n",
       "    <tr>\n",
       "      <th>Airgap/mm.1</th>\n",
       "      <th></th>\n",
       "    </tr>\n",
       "  </thead>\n",
       "  <tbody>\n",
       "    <tr>\n",
       "      <th>9.30</th>\n",
       "      <td>0.08</td>\n",
       "    </tr>\n",
       "    <tr>\n",
       "      <th>9.31</th>\n",
       "      <td>0.04</td>\n",
       "    </tr>\n",
       "    <tr>\n",
       "      <th>9.32</th>\n",
       "      <td>0.04</td>\n",
       "    </tr>\n",
       "    <tr>\n",
       "      <th>9.33</th>\n",
       "      <td>0.08</td>\n",
       "    </tr>\n",
       "    <tr>\n",
       "      <th>9.34</th>\n",
       "      <td>0.04</td>\n",
       "    </tr>\n",
       "    <tr>\n",
       "      <th>...</th>\n",
       "      <td>...</td>\n",
       "    </tr>\n",
       "    <tr>\n",
       "      <th>11.66</th>\n",
       "      <td>0.24</td>\n",
       "    </tr>\n",
       "    <tr>\n",
       "      <th>11.67</th>\n",
       "      <td>0.20</td>\n",
       "    </tr>\n",
       "    <tr>\n",
       "      <th>11.68</th>\n",
       "      <td>0.12</td>\n",
       "    </tr>\n",
       "    <tr>\n",
       "      <th>11.69</th>\n",
       "      <td>0.12</td>\n",
       "    </tr>\n",
       "    <tr>\n",
       "      <th>11.70</th>\n",
       "      <td>0.08</td>\n",
       "    </tr>\n",
       "  </tbody>\n",
       "</table>\n",
       "<p>241 rows × 1 columns</p>\n",
       "</div>"
      ],
      "text/plain": [
       "             Contrast/V.1\n",
       "Airgap/mm.1              \n",
       "9.30                 0.08\n",
       "9.31                 0.04\n",
       "9.32                 0.04\n",
       "9.33                 0.08\n",
       "9.34                 0.04\n",
       "...                   ...\n",
       "11.66                0.24\n",
       "11.67                0.20\n",
       "11.68                0.12\n",
       "11.69                0.12\n",
       "11.70                0.08\n",
       "\n",
       "[241 rows x 1 columns]"
      ]
     },
     "execution_count": 2,
     "metadata": {},
     "output_type": "execute_result"
    }
   ],
   "source": [
    "# data with 0.01mm increments mirrored at the central maxima \n",
    "\n",
    "SLD_df = pd.read_excel('SLD_contrast.xlsx', usecols='D:E', index_col=0)\n",
    "\n",
    "SLD_df = SLD_df.sort_index()\n",
    "\n",
    "SLD_df"
   ]
  },
  {
   "cell_type": "code",
   "execution_count": 3,
   "id": "588b385a",
   "metadata": {
    "scrolled": true
   },
   "outputs": [
    {
     "data": {
      "text/plain": [
       "<AxesSubplot:title={'center':'SLD Fringes'}, xlabel='Airgap/mm.1', ylabel='Contrast /V'>"
      ]
     },
     "execution_count": 3,
     "metadata": {},
     "output_type": "execute_result"
    },
    {
     "data": {
      "image/png": "[encoded data removed]",
      "text/plain": [
       "<Figure size 432x288 with 1 Axes>"
      ]
     },
     "metadata": {
      "needs_background": "light"
     },
     "output_type": "display_data"
    }
   ],
   "source": [
    "SLD_df.plot(title='SLD Fringes', legend=False, ylabel='Contrast /V')"
   ]
  },
  {
   "cell_type": "code",
   "execution_count": 4,
   "id": "0b2ccb11",
   "metadata": {},
   "outputs": [],
   "source": [
    "# first we must find out some stuff about our data \n",
    "\n",
    "N = len(SLD_df) # number of samples\n",
    "\n",
    "SAMPLE_RATE = 0.01 # mm"
   ]
  },
  {
   "cell_type": "code",
   "execution_count": 5,
   "id": "46c47968",
   "metadata": {},
   "outputs": [
    {
     "data": {
      "image/png": "[encoded data removed]",
      "text/plain": [
       "<Figure size 432x288 with 1 Axes>"
      ]
     },
     "metadata": {
      "needs_background": "light"
     },
     "output_type": "display_data"
    }
   ],
   "source": [
    "# now import fft tools from scipy \n",
    "\n",
    "from scipy.fft import fft, fftfreq, rfft, rfftfreq, irfft\n",
    "\n",
    "yf = fft(list(SLD_df['Contrast/V.1']-.04)) # subtract min contrast value \n",
    "xf = fftfreq(N, 1/SAMPLE_RATE)\n",
    "\n",
    "plt.plot(xf, np.abs(yf))\n",
    "plt.show()"
   ]
  },
  {
   "cell_type": "code",
   "execution_count": 6,
   "id": "c01f2bca",
   "metadata": {},
   "outputs": [
    {
     "data": {
      "text/html": [
       "<div>\n",
       "<style scoped>\n",
       "    .dataframe tbody tr th:only-of-type {\n",
       "        vertical-align: middle;\n",
       "    }\n",
       "\n",
       "    .dataframe tbody tr th {\n",
       "        vertical-align: top;\n",
       "    }\n",
       "\n",
       "    .dataframe thead th {\n",
       "        text-align: right;\n",
       "    }\n",
       "</style>\n",
       "<table border=\"1\" class=\"dataframe\">\n",
       "  <thead>\n",
       "    <tr style=\"text-align: right;\">\n",
       "      <th></th>\n",
       "      <th>Contrast/V.1</th>\n",
       "    </tr>\n",
       "    <tr>\n",
       "      <th>Airgap/mm.1</th>\n",
       "      <th></th>\n",
       "    </tr>\n",
       "  </thead>\n",
       "  <tbody>\n",
       "    <tr>\n",
       "      <th>9.30</th>\n",
       "      <td>0.08</td>\n",
       "    </tr>\n",
       "    <tr>\n",
       "      <th>9.31</th>\n",
       "      <td>0.04</td>\n",
       "    </tr>\n",
       "    <tr>\n",
       "      <th>9.32</th>\n",
       "      <td>0.04</td>\n",
       "    </tr>\n",
       "    <tr>\n",
       "      <th>9.33</th>\n",
       "      <td>0.08</td>\n",
       "    </tr>\n",
       "    <tr>\n",
       "      <th>9.34</th>\n",
       "      <td>0.04</td>\n",
       "    </tr>\n",
       "  </tbody>\n",
       "</table>\n",
       "</div>"
      ],
      "text/plain": [
       "             Contrast/V.1\n",
       "Airgap/mm.1              \n",
       "9.30                 0.08\n",
       "9.31                 0.04\n",
       "9.32                 0.04\n",
       "9.33                 0.08\n",
       "9.34                 0.04"
      ]
     },
     "execution_count": 6,
     "metadata": {},
     "output_type": "execute_result"
    }
   ],
   "source": [
    "# could plot as subplots on the same plot \n",
    "\n",
    "# remove noise 40mV and see if delta spike goes\n",
    "\n",
    "# comment on the asymmetry \n",
    "\n",
    "# not getting information on the wavelength \n",
    "\n",
    "# mention that it is p2p instead of contrast -> mention that the mean is constant and that it didin't matter \n",
    "\n",
    "SLD_df.head()"
   ]
  },
  {
   "cell_type": "markdown",
   "id": "1a39340a",
   "metadata": {},
   "source": [
    "# Second set of results (much more stable with higher contrast"
   ]
  },
  {
   "cell_type": "code",
   "execution_count": 52,
   "id": "c24d84b6",
   "metadata": {},
   "outputs": [
    {
     "data": {
      "text/html": [
       "<div>\n",
       "<style scoped>\n",
       "    .dataframe tbody tr th:only-of-type {\n",
       "        vertical-align: middle;\n",
       "    }\n",
       "\n",
       "    .dataframe tbody tr th {\n",
       "        vertical-align: top;\n",
       "    }\n",
       "\n",
       "    .dataframe thead th {\n",
       "        text-align: right;\n",
       "    }\n",
       "</style>\n",
       "<table border=\"1\" class=\"dataframe\">\n",
       "  <thead>\n",
       "    <tr style=\"text-align: right;\">\n",
       "      <th></th>\n",
       "      <th>contrast</th>\n",
       "    </tr>\n",
       "    <tr>\n",
       "      <th>airgap</th>\n",
       "      <th></th>\n",
       "    </tr>\n",
       "  </thead>\n",
       "  <tbody>\n",
       "    <tr>\n",
       "      <th>1.18</th>\n",
       "      <td>0.010112</td>\n",
       "    </tr>\n",
       "    <tr>\n",
       "      <th>1.19</th>\n",
       "      <td>0.010112</td>\n",
       "    </tr>\n",
       "    <tr>\n",
       "      <th>1.20</th>\n",
       "      <td>0.014607</td>\n",
       "    </tr>\n",
       "    <tr>\n",
       "      <th>1.21</th>\n",
       "      <td>0.019101</td>\n",
       "    </tr>\n",
       "    <tr>\n",
       "      <th>1.22</th>\n",
       "      <td>0.029213</td>\n",
       "    </tr>\n",
       "    <tr>\n",
       "      <th>...</th>\n",
       "      <td>...</td>\n",
       "    </tr>\n",
       "    <tr>\n",
       "      <th>3.02</th>\n",
       "      <td>0.019101</td>\n",
       "    </tr>\n",
       "    <tr>\n",
       "      <th>3.03</th>\n",
       "      <td>0.019101</td>\n",
       "    </tr>\n",
       "    <tr>\n",
       "      <th>3.04</th>\n",
       "      <td>0.014607</td>\n",
       "    </tr>\n",
       "    <tr>\n",
       "      <th>3.05</th>\n",
       "      <td>0.010090</td>\n",
       "    </tr>\n",
       "    <tr>\n",
       "      <th>3.06</th>\n",
       "      <td>0.010090</td>\n",
       "    </tr>\n",
       "  </tbody>\n",
       "</table>\n",
       "<p>199 rows × 1 columns</p>\n",
       "</div>"
      ],
      "text/plain": [
       "        contrast\n",
       "airgap          \n",
       "1.18    0.010112\n",
       "1.19    0.010112\n",
       "1.20    0.014607\n",
       "1.21    0.019101\n",
       "1.22    0.029213\n",
       "...          ...\n",
       "3.02    0.019101\n",
       "3.03    0.019101\n",
       "3.04    0.014607\n",
       "3.05    0.010090\n",
       "3.06    0.010090\n",
       "\n",
       "[199 rows x 1 columns]"
      ]
     },
     "execution_count": 52,
     "metadata": {},
     "output_type": "execute_result"
    }
   ],
   "source": [
    "# data with 0.01mm increments mirrored at the central maxima \n",
    "\n",
    "SLD_df2 = pd.read_excel('SLD_new.xlsx', usecols='A,D', index_col=0)\n",
    "\n",
    "SLD_df2 = SLD_df2.sort_index()\n",
    "\n",
    "SLD_df2"
   ]
  },
  {
   "cell_type": "code",
   "execution_count": 53,
   "id": "8e0d91e5",
   "metadata": {},
   "outputs": [
    {
     "data": {
      "text/plain": [
       "<AxesSubplot:title={'center':'SLD Fringes (more stable)'}, xlabel='airgap', ylabel='Contrast'>"
      ]
     },
     "execution_count": 53,
     "metadata": {},
     "output_type": "execute_result"
    },
    {
     "data": {
      "image/png": "[encoded data removed]",
      "text/plain": [
       "<Figure size 432x288 with 1 Axes>"
      ]
     },
     "metadata": {
      "needs_background": "light"
     },
     "output_type": "display_data"
    }
   ],
   "source": [
    "SLD_df2.plot(title='SLD Fringes (more stable)', legend=False, ylabel='Contrast')"
   ]
  },
  {
   "cell_type": "code",
   "execution_count": 56,
   "id": "458b0a36",
   "metadata": {},
   "outputs": [
    {
     "data": {
      "image/png": "[encoded data removed]",
      "text/plain": [
       "<Figure size 432x288 with 1 Axes>"
      ]
     },
     "metadata": {
      "needs_background": "light"
     },
     "output_type": "display_data"
    }
   ],
   "source": [
    "# now import fft tools from scipy \n",
    "\n",
    "N = len(SLD_df2)\n",
    "\n",
    "yf = fft(list(SLD_df2['contrast'])) # subtract min contrast value \n",
    "xf = fftfreq(N, 1/SAMPLE_RATE)\n",
    "\n",
    "plt.plot(xf, np.abs(yf))\n",
    "plt.show()"
   ]
  },
  {
   "cell_type": "code",
   "execution_count": null,
   "id": "6ea4e717",
   "metadata": {},
   "outputs": [],
   "source": []
  },
  {
   "cell_type": "code",
   "execution_count": null,
   "id": "087a3083",
   "metadata": {},
   "outputs": [],
   "source": []
  },
  {
   "cell_type": "code",
   "execution_count": null,
   "id": "d1a89f46",
   "metadata": {},
   "outputs": [],
   "source": []
  }
 ],
 "metadata": {
  "kernelspec": {
   "display_name": "Python 3 (ipykernel)",
   "language": "python",
   "name": "python3"
  },
  "language_info": {
   "codemirror_mode": {
    "name": "ipython",
    "version": 3
   },
   "file_extension": ".py",
   "mimetype": "text/x-python",
   "name": "python",
   "nbconvert_exporter": "python",
   "pygments_lexer": "ipython3",
   "version": "3.9.6"
  }
 },
 "nbformat": 4,
 "nbformat_minor": 5
}
