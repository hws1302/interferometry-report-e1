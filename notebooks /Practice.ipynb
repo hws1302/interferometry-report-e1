{
 "cells": [
  {
   "cell_type": "code",
   "execution_count": 1,
   "id": "aaab86c3",
   "metadata": {},
   "outputs": [],
   "source": [
    "# sampling frequency, time interval and sample frequency \n",
    "Fs = 500\n",
    "tstep = 1/Fs \n",
    "f0 = 100\n",
    "\n",
    "# number of samples\n",
    "N = int(10 * Fs / f0)\n"
   ]
  },
  {
   "cell_type": "code",
   "execution_count": 2,
   "id": "34a3f20e",
   "metadata": {},
   "outputs": [],
   "source": [
    "import numpy as np\n",
    "import matplotlib.pyplot as plt\n",
    "%matplotlib inline"
   ]
  },
  {
   "cell_type": "code",
   "execution_count": 3,
   "id": "2576c7a6",
   "metadata": {},
   "outputs": [],
   "source": [
    "# time steps \n",
    "t = np.linspace(0, (N-1)*tstep, N)\n",
    "\n",
    "# frequency steps \n",
    "fstep = Fs/N\n",
    "f = np.linspace(0, (N-1)*fstep, N)\n",
    "\n",
    "y = np.sin(2 * np.pi * f0 * t) + 4 * np.sin(2 * np.pi * 3 * f0 * t) \n",
    "\n",
    "X = np.fft.fft(y)\n",
    "X_mag = np.abs(X)/ N\n",
    "\n",
    "f_plot = f[0:int(N/2 + 1)]\n",
    "X_mag_plot = 2 * X_mag[0:int(N/2 + 1)]\n",
    "X_mag_plot[0] = X_mag_plot[0] / 2 "
   ]
  },
  {
   "cell_type": "code",
   "execution_count": 4,
   "id": "7c67e98e",
   "metadata": {},
   "outputs": [
    {
     "data": {
      "image/png": "[encoded data removed]",
      "text/plain": [
       "<Figure size 432x288 with 2 Axes>"
      ]
     },
     "metadata": {
      "needs_background": "light"
     },
     "output_type": "display_data"
    }
   ],
   "source": [
    "fix, [ax1, ax2] = plt.subplots(nrows=2, ncols=1)\n",
    "\n",
    "ax1.plot(t, y, '.-')\n",
    "ax2.plot(f_plot, X_mag_plot, '.-')\n",
    "plt.show()"
   ]
  },
  {
   "cell_type": "code",
   "execution_count": 21,
   "id": "0df6e308",
   "metadata": {},
   "outputs": [
    {
     "data": {
      "text/plain": [
       "200.0"
      ]
     },
     "execution_count": 21,
     "metadata": {},
     "output_type": "execute_result"
    }
   ],
   "source": [
    "import pandas as pd \n",
    "# how to find the index of the \n",
    "int(np.where(X_mag_plot == max(X_mag_plot))[0])\n",
    "\n",
    "f_plot[20]"
   ]
  },
  {
   "cell_type": "code",
   "execution_count": 6,
   "id": "e68f49b2",
   "metadata": {},
   "outputs": [
    {
     "data": {
      "text/html": [
       "<div>\n",
       "<style scoped>\n",
       "    .dataframe tbody tr th:only-of-type {\n",
       "        vertical-align: middle;\n",
       "    }\n",
       "\n",
       "    .dataframe tbody tr th {\n",
       "        vertical-align: top;\n",
       "    }\n",
       "\n",
       "    .dataframe thead th {\n",
       "        text-align: right;\n",
       "    }\n",
       "</style>\n",
       "<table border=\"1\" class=\"dataframe\">\n",
       "  <thead>\n",
       "    <tr style=\"text-align: right;\">\n",
       "      <th></th>\n",
       "      <th>Contrast/V.1</th>\n",
       "    </tr>\n",
       "    <tr>\n",
       "      <th>Airgap/mm.1</th>\n",
       "      <th></th>\n",
       "    </tr>\n",
       "  </thead>\n",
       "  <tbody>\n",
       "    <tr>\n",
       "      <th>9.30</th>\n",
       "      <td>0.08</td>\n",
       "    </tr>\n",
       "    <tr>\n",
       "      <th>9.31</th>\n",
       "      <td>0.04</td>\n",
       "    </tr>\n",
       "    <tr>\n",
       "      <th>9.32</th>\n",
       "      <td>0.04</td>\n",
       "    </tr>\n",
       "    <tr>\n",
       "      <th>9.33</th>\n",
       "      <td>0.08</td>\n",
       "    </tr>\n",
       "    <tr>\n",
       "      <th>9.34</th>\n",
       "      <td>0.04</td>\n",
       "    </tr>\n",
       "    <tr>\n",
       "      <th>...</th>\n",
       "      <td>...</td>\n",
       "    </tr>\n",
       "    <tr>\n",
       "      <th>11.66</th>\n",
       "      <td>0.24</td>\n",
       "    </tr>\n",
       "    <tr>\n",
       "      <th>11.67</th>\n",
       "      <td>0.20</td>\n",
       "    </tr>\n",
       "    <tr>\n",
       "      <th>11.68</th>\n",
       "      <td>0.12</td>\n",
       "    </tr>\n",
       "    <tr>\n",
       "      <th>11.69</th>\n",
       "      <td>0.12</td>\n",
       "    </tr>\n",
       "    <tr>\n",
       "      <th>11.70</th>\n",
       "      <td>0.08</td>\n",
       "    </tr>\n",
       "  </tbody>\n",
       "</table>\n",
       "<p>241 rows × 1 columns</p>\n",
       "</div>"
      ],
      "text/plain": [
       "             Contrast/V.1\n",
       "Airgap/mm.1              \n",
       "9.30                 0.08\n",
       "9.31                 0.04\n",
       "9.32                 0.04\n",
       "9.33                 0.08\n",
       "9.34                 0.04\n",
       "...                   ...\n",
       "11.66                0.24\n",
       "11.67                0.20\n",
       "11.68                0.12\n",
       "11.69                0.12\n",
       "11.70                0.08\n",
       "\n",
       "[241 rows x 1 columns]"
      ]
     },
     "execution_count": 6,
     "metadata": {},
     "output_type": "execute_result"
    }
   ],
   "source": [
    "# data with 0.05mm increments mirrored at the central maxima \n",
    "\n",
    "SLD_df = pd.read_excel('SLD_contrast.xlsx', usecols='D:E', index_col=0)\n",
    "\n",
    "SLD_df = SLD_df.sort_index()\n",
    "\n",
    "SLD_df"
   ]
  },
  {
   "cell_type": "code",
   "execution_count": 7,
   "id": "f6c792f3",
   "metadata": {},
   "outputs": [
    {
     "data": {
      "text/plain": [
       "<AxesSubplot:title={'center':'SLD Fringes'}, xlabel='Airgap/mm.1', ylabel='Contrast /V'>"
      ]
     },
     "execution_count": 7,
     "metadata": {},
     "output_type": "execute_result"
    },
    {
     "data": {
      "image/png": "[encoded data removed]",
      "text/plain": [
       "<Figure size 432x288 with 1 Axes>"
      ]
     },
     "metadata": {
      "needs_background": "light"
     },
     "output_type": "display_data"
    }
   ],
   "source": [
    "SLD_df.plot(title='SLD Fringes', legend=False, ylabel='Contrast /V')"
   ]
  },
  {
   "cell_type": "code",
   "execution_count": 8,
   "id": "abc76ad5",
   "metadata": {},
   "outputs": [],
   "source": [
    "# first we must find out some stuff about our data \n",
    "\n",
    "N = len(SLD_df)\n",
    "\n",
    "SAMPLE_RATE = 0.05 # mm"
   ]
  },
  {
   "cell_type": "code",
   "execution_count": 9,
   "id": "7e827ef2",
   "metadata": {},
   "outputs": [
    {
     "data": {
      "text/plain": [
       "[<matplotlib.lines.Line2D at 0x111a12100>]"
      ]
     },
     "execution_count": 9,
     "metadata": {},
     "output_type": "execute_result"
    },
    {
     "data": {
      "image/png": "[encoded data removed]",
      "text/plain": [
       "<Figure size 432x288 with 2 Axes>"
      ]
     },
     "metadata": {
      "needs_background": "light"
     },
     "output_type": "display_data"
    }
   ],
   "source": [
    "# now import fft tools from scipy \n",
    "\n",
    "from scipy.fft import fft, fftfreq, rfft, rfftfreq, irfft\n",
    "\n",
    "yf = fft(list(SLD_df['Contrast/V.1']))\n",
    "xf = fftfreq(N, 1/SAMPLE_RATE)\n",
    "\n",
    "yf2 = fft(list(SLD_df['Contrast/V.1']-.07)) # think about rms here\n",
    "\n",
    "fig, (ax1, ax2) = plt.subplots(2,1)\n",
    "ax1.plot(xf, np.abs(yf))\n",
    "ax2.plot(xf, np.abs(yf2))"
   ]
  },
  {
   "cell_type": "code",
   "execution_count": 10,
   "id": "2cccb967",
   "metadata": {},
   "outputs": [
    {
     "data": {
      "text/plain": [
       "[0.08,\n",
       " 0.04,\n",
       " 0.04,\n",
       " 0.08,\n",
       " 0.04,\n",
       " 0.08,\n",
       " 0.06,\n",
       " 0.04,\n",
       " 0.08,\n",
       " 0.08,\n",
       " 0.04,\n",
       " 0.08,\n",
       " 0.08,\n",
       " 0.12,\n",
       " 0.16,\n",
       " 0.2,\n",
       " 0.2,\n",
       " 0.18,\n",
       " 0.16,\n",
       " 0.12,\n",
       " 0.08,\n",
       " 0.08,\n",
       " 0.08,\n",
       " 0.08,\n",
       " 0.06,\n",
       " 0.06,\n",
       " 0.06,\n",
       " 0.06,\n",
       " 0.1,\n",
       " 0.08,\n",
       " 0.06,\n",
       " 0.1,\n",
       " 0.12,\n",
       " 0.12,\n",
       " 0.12,\n",
       " 0.12,\n",
       " 0.12,\n",
       " 0.12,\n",
       " 0.12,\n",
       " 0.12,\n",
       " 0.012,\n",
       " 0.08,\n",
       " 0.04,\n",
       " 0.06,\n",
       " 0.04,\n",
       " 0.06,\n",
       " 0.06,\n",
       " 0.06,\n",
       " 0.04,\n",
       " 0.04,\n",
       " 0.06,\n",
       " 0.06,\n",
       " 0.04,\n",
       " 0.06,\n",
       " 0.06,\n",
       " 0.08,\n",
       " 0.06,\n",
       " 0.1,\n",
       " 0.1,\n",
       " 0.06,\n",
       " 0.06,\n",
       " 0.04,\n",
       " 0.06,\n",
       " 0.04,\n",
       " 0.06,\n",
       " 0.04,\n",
       " 0.06,\n",
       " 0.06,\n",
       " 0.06,\n",
       " 0.06,\n",
       " 0.1,\n",
       " 0.1,\n",
       " 0.04,\n",
       " 0.08,\n",
       " 0.06,\n",
       " 0.06,\n",
       " 0.08,\n",
       " 0.04,\n",
       " 0.04,\n",
       " 0.06,\n",
       " 0.06,\n",
       " 0.1,\n",
       " 0.06,\n",
       " 0.04,\n",
       " 0.04,\n",
       " 0.04,\n",
       " 0.04,\n",
       " 0.06,\n",
       " 0.04,\n",
       " 0.06,\n",
       " 0.04,\n",
       " 0.06,\n",
       " 0.06,\n",
       " 0.1,\n",
       " 0.1,\n",
       " 0.06,\n",
       " 0.06,\n",
       " 0.1,\n",
       " 0.1,\n",
       " 0.08,\n",
       " 0.06,\n",
       " 0.04,\n",
       " 0.06,\n",
       " 0.06,\n",
       " 0.04,\n",
       " 0.06,\n",
       " 0.06,\n",
       " 0.06,\n",
       " 0.06,\n",
       " 0.04,\n",
       " 0.06,\n",
       " 0.06,\n",
       " 0.04,\n",
       " 0.06,\n",
       " 0.1,\n",
       " 0.12,\n",
       " 0.16,\n",
       " 0.3,\n",
       " 0.72,\n",
       " 1.36,\n",
       " 2.36,\n",
       " 2.58,\n",
       " 2.24,\n",
       " 1.54,\n",
       " 1.0,\n",
       " 0.48,\n",
       " 0.22,\n",
       " 0.12,\n",
       " 0.1,\n",
       " 0.06,\n",
       " 0.08,\n",
       " 0.06,\n",
       " 0.06,\n",
       " 0.06,\n",
       " 0.04,\n",
       " 0.04,\n",
       " 0.04,\n",
       " 0.04,\n",
       " 0.06,\n",
       " 0.06,\n",
       " 0.04,\n",
       " 0.04,\n",
       " 0.06,\n",
       " 0.06,\n",
       " 0.04,\n",
       " 0.06,\n",
       " 0.06,\n",
       " 0.06,\n",
       " 0.06,\n",
       " 0.06,\n",
       " 0.06,\n",
       " 0.06,\n",
       " 0.04,\n",
       " 0.06,\n",
       " 0.06,\n",
       " 0.04,\n",
       " 0.06,\n",
       " 0.06,\n",
       " 0.06,\n",
       " 0.04,\n",
       " 0.06,\n",
       " 0.04,\n",
       " 0.08,\n",
       " 0.06,\n",
       " 0.1,\n",
       " 0.1,\n",
       " 0.08,\n",
       " 0.06,\n",
       " 0.06,\n",
       " 0.06,\n",
       " 0.04,\n",
       " 0.06,\n",
       " 0.08,\n",
       " 0.06,\n",
       " 0.04,\n",
       " 0.04,\n",
       " 0.04,\n",
       " 0.06,\n",
       " 0.04,\n",
       " 0.04,\n",
       " 0.06,\n",
       " 0.06,\n",
       " 0.06,\n",
       " 0.06,\n",
       " 0.06,\n",
       " 0.06,\n",
       " 0.06,\n",
       " 0.06,\n",
       " 0.12,\n",
       " 0.12,\n",
       " 0.1,\n",
       " 0.06,\n",
       " 0.06,\n",
       " 0.06,\n",
       " 0.04,\n",
       " 0.04,\n",
       " 0.04,\n",
       " 0.04,\n",
       " 0.04,\n",
       " 0.06,\n",
       " 0.06,\n",
       " 0.06,\n",
       " 0.08,\n",
       " 0.012,\n",
       " 0.2,\n",
       " 0.4,\n",
       " 0.48,\n",
       " 0.52,\n",
       " 0.5,\n",
       " 0.42,\n",
       " 0.28,\n",
       " 0.18,\n",
       " 0.12,\n",
       " 0.1,\n",
       " 0.08,\n",
       " 0.08,\n",
       " 0.08,\n",
       " 0.08,\n",
       " 0.08,\n",
       " 0.06,\n",
       " 0.06,\n",
       " 0.08,\n",
       " 0.04,\n",
       " 0.06,\n",
       " 0.06,\n",
       " 0.08,\n",
       " 0.04,\n",
       " 0.04,\n",
       " 0.08,\n",
       " 0.08,\n",
       " 0.08,\n",
       " 0.12,\n",
       " 0.12,\n",
       " 0.16,\n",
       " 0.2,\n",
       " 0.2,\n",
       " 0.24,\n",
       " 0.2,\n",
       " 0.12,\n",
       " 0.12,\n",
       " 0.08]"
      ]
     },
     "execution_count": 10,
     "metadata": {},
     "output_type": "execute_result"
    }
   ],
   "source": [
    "list(SLD_df['Contrast/V.1'])"
   ]
  },
  {
   "cell_type": "code",
   "execution_count": null,
   "id": "e40e955b",
   "metadata": {},
   "outputs": [],
   "source": []
  },
  {
   "cell_type": "code",
   "execution_count": null,
   "id": "780f6c0c",
   "metadata": {},
   "outputs": [],
   "source": []
  },
  {
   "cell_type": "code",
   "execution_count": null,
   "id": "c67fb13c",
   "metadata": {},
   "outputs": [],
   "source": []
  }
 ],
 "metadata": {
  "kernelspec": {
   "display_name": "Python 3 (ipykernel)",
   "language": "python",
   "name": "python3"
  },
  "language_info": {
   "codemirror_mode": {
    "name": "ipython",
    "version": 3
   },
   "file_extension": ".py",
   "mimetype": "text/x-python",
   "name": "python",
   "nbconvert_exporter": "python",
   "pygments_lexer": "ipython3",
   "version": "3.9.6"
  }
 },
 "nbformat": 4,
 "nbformat_minor": 5
}
